{
 "cells": [
  {
   "cell_type": "markdown",
   "id": "884e6f5e",
   "metadata": {},
   "source": [
    "## Statistics Advance 7"
   ]
  },
  {
   "cell_type": "markdown",
   "id": "6aa46cf8",
   "metadata": {},
   "source": [
    "### Question 1\n",
    "\n",
    "Q1. Write a Python function that takes in two arrays of data and calculates the F-value for a variance ratio\n",
    "test. The function should return the F-value and the corresponding p-value for the test.\n",
    "\n"
   ]
  },
  {
   "cell_type": "code",
   "execution_count": 3,
   "id": "c8789f26",
   "metadata": {},
   "outputs": [],
   "source": [
    "\n",
    "from scipy.stats import f\n",
    "\n",
    "def f_test(data1, data2):\n",
    "    # Calculate the variances of the two data sets\n",
    "    var1 = np.var(data1, ddof=1)\n",
    "    var2 = np.var(data2, ddof=1)\n",
    "    \n",
    "    # Calculate the degrees of freedom for the numerator and denominator\n",
    "    df1 = len(data1) - 1\n",
    "    df2 = len(data2) - 1\n",
    "    \n",
    "    # Calculate the F-value as the ratio of the larger variance to the smaller variance\n",
    "    f_value = max(var1, var2) / min(var1, var2)  ## max var/ min var to ensure right tail distribution\n",
    "    \n",
    "    # Calculate the p-value using the F-distribution\n",
    "    p_value = 1 - f.cdf(f_value, df1, df2)\n",
    "    \n",
    "    return f_value, p_value\n"
   ]
  },
  {
   "cell_type": "code",
   "execution_count": 4,
   "id": "e6e2bdc1",
   "metadata": {},
   "outputs": [
    {
     "name": "stdout",
     "output_type": "stream",
     "text": [
      "F-value: 4.2154\n",
      "p-value: 0.0000\n"
     ]
    }
   ],
   "source": [
    "# Example usage with random data\n",
    "import numpy as np\n",
    "np.random.seed(0)\n",
    "data1 = np.random.normal(0, 1, 100)\n",
    "data2 = np.random.normal(0, 2, 100)\n",
    "\n",
    "f_value, p_value = f_test(data1, data2)\n",
    "print(f'F-value: {f_value:.4f}')\n",
    "print(f'p-value: {p_value:.4f}')"
   ]
  },
  {
   "cell_type": "markdown",
   "id": "376a0ebf",
   "metadata": {},
   "source": [
    "### Question 2\n",
    "\n",
    "Q2. Given a significance level of 0.05 and the degrees of freedom for the numerator and denominator of an F-distribution, write a Python function that returns the critical F-value for a two-tailed test."
   ]
  },
  {
   "cell_type": "code",
   "execution_count": 5,
   "id": "2d5a230a",
   "metadata": {},
   "outputs": [
    {
     "name": "stdout",
     "output_type": "stream",
     "text": [
      "Critical F-value: 2.7737\n"
     ]
    }
   ],
   "source": [
    "from scipy.stats import f\n",
    "\n",
    "def f_critical_value(df1, df2, alpha=0.05):\n",
    "    f_critical = f.ppf(1 - alpha/2, df1, df2)  ## alpha divided by two (two tailed test)\n",
    "    return f_critical\n",
    "\n",
    "# Example usage  Using hypothetical df's\n",
    "df1 = 10\n",
    "df2 = 20\n",
    "f_critical = f_critical_value(df1, df2)\n",
    "print(f'Critical F-value: {f_critical:.4f}')\n"
   ]
  },
  {
   "cell_type": "markdown",
   "id": "ed5d8afa",
   "metadata": {},
   "source": [
    "### Question 3\n",
    "\n",
    "Q3. Write a Python program that generates random samples from two normal distributions with known variances and uses an F-test to determine if the variances are equal. The program should output the F-value, degrees of freedom, and p-value for the test.\n",
    "\n",
    "\n",
    "__Explanation for the Code__\n",
    "\n",
    "The scipy.stats.f module is used to calculate the cumulative distribution function (CDF) of the F-distribution. \n",
    "\n",
    "The F-value is calculated as the ratio of the variances of the two input arrays, note max variance as numerator and min as denominator. The degrees of freedom for the F-distribution are calculated as n1-1 and n2-1, where n1 and n2 are the lengths of the input arrays. The p-value is then calculated as 1 - CDF(F-value)."
   ]
  },
  {
   "cell_type": "code",
   "execution_count": 6,
   "id": "841befd0",
   "metadata": {},
   "outputs": [],
   "source": [
    "from scipy.stats import f\n",
    "import numpy as np\n",
    "\n",
    "def f_test(array1, array2):\n",
    "    n1 = len(array1)\n",
    "    n2 = len(array2)\n",
    "    var1 = np.var(array1, ddof=1)\n",
    "    var2 = np.var(array2, ddof=1)\n",
    "    f_value = max(var1, var2) / min(var1, var2)\n",
    "    p_value = 1 - f.cdf(f_value, n1-1, n2-1)\n",
    "    return f_value, n1-1, n2-1, p_value\n",
    "\n",
    "\n"
   ]
  },
  {
   "cell_type": "code",
   "execution_count": 9,
   "id": "81f9c15d",
   "metadata": {},
   "outputs": [
    {
     "name": "stdout",
     "output_type": "stream",
     "text": [
      "F-value: 4.2154\n",
      "Degrees of freedom: 99, 99\n",
      "p-value: 0.00000000000335131922\n"
     ]
    }
   ],
   "source": [
    "# Example usage with random data\n",
    "np.random.seed(0)\n",
    "data1 = np.random.normal(0, 1, 100)\n",
    "data2 = np.random.normal(0, 2, 100)\n",
    "\n",
    "f_value, df1, df2, p_value = f_test(data1, data2)\n",
    "print(f'F-value: {f_value:.4f}')\n",
    "print(f'Degrees of freedom: {df1}, {df2}')\n",
    "print(f'p-value: {p_value:.20f}')"
   ]
  },
  {
   "cell_type": "markdown",
   "id": "787e240a",
   "metadata": {},
   "source": [
    "### Question 4\n",
    "\n",
    "Q4.The variances of two populations are known to be 10 and 15. A sample of 12 observations is taken from each population. Conduct an F-test at the 5% significance level to determine if the variances are significantly different."
   ]
  },
  {
   "cell_type": "code",
   "execution_count": 15,
   "id": "35af31e9",
   "metadata": {},
   "outputs": [
    {
     "name": "stdout",
     "output_type": "stream",
     "text": [
      "F-value: 0.6667\n",
      "Degrees of freedom: 11, 11\n",
      "p-value: 0.5124\n",
      "The variances are not significantly different at the 5% significance level.\n"
     ]
    }
   ],
   "source": [
    "from scipy.stats import f\n",
    "\n",
    "# Known population variances\n",
    "var1 = 10\n",
    "var2 = 15\n",
    "\n",
    "# Sample sizes\n",
    "n1 = 12\n",
    "n2 = 12\n",
    "\n",
    "# Calculate F-value\n",
    "f_value = var1 / var2\n",
    "\n",
    "# Calculate degrees of freedom\n",
    "df1 = n1 - 1\n",
    "df2 = n2 - 1\n",
    "\n",
    "# Calculate p-value\n",
    "# Note we multiply the calcutate pvalue because it two tails, on either side put together\n",
    "p_value = 2 * min(f.cdf(f_value, df1, df2), 1 - f.cdf(f_value, df1, df2)) ## the lowest will be taken which is area outside the curve\n",
    "\n",
    "# Significance level\n",
    "alpha = 0.05\n",
    "\n",
    "print(f'F-value: {f_value:.4f}')\n",
    "print(f'Degrees of freedom: {df1}, {df2}')\n",
    "print(f'p-value: {p_value:.4f}')\n",
    "\n",
    "if p_value < alpha:\n",
    "    print('The variances are significantly different at the 5% significance level.')\n",
    "else:\n",
    "    print('The variances are not significantly different at the 5% significance level.')"
   ]
  },
  {
   "cell_type": "markdown",
   "id": "aefff01f",
   "metadata": {},
   "source": [
    "### Question 5\n",
    "\n",
    "Q5. A manufacturer claims that the variance of the diameter of a certain product is 0.005. A sample of 25 products is taken, and the sample variance is found to be 0.006. Conduct an F-test at the 1% significance level to determine if the claim is justified.\n",
    "\n",
    "\n",
    "Hypothesis:\n",
    "\n",
    "H0: The population variance of the diameter of the product is 0.005\n",
    "\n",
    "Ha: The population variance of the diameter of the product is greater than 0.005\n",
    "\n",
    "Under the null hypothesis, the F-statistic follows an F-distribution with degrees of freedom (df1 = n - 1, df2 = ∞). Because the possibility of the population size is infinity(could be any size), however sample size is known."
   ]
  },
  {
   "cell_type": "code",
   "execution_count": 37,
   "id": "2a58b7e0",
   "metadata": {},
   "outputs": [
    {
     "name": "stdout",
     "output_type": "stream",
     "text": [
      "F-statistic: 1.2\n",
      "p-value: 1.0\n",
      "Critical value: 2.211\n",
      "Fail to reject null hypothesis\n"
     ]
    }
   ],
   "source": [
    "import scipy.stats as stats\n",
    "\n",
    "# Given data\n",
    "\n",
    "n = 25\n",
    "sample_var = 0.006\n",
    "pop_var = 0.005\n",
    "alpha = 0.01\n",
    "\n",
    "# Calculate the F-statistic\n",
    "f_stat = sample_var / pop_var\n",
    "\n",
    "# Calculate the p-value\n",
    "p_value = 1 - stats.f.cdf(f_stat, n-1, float('inf')) ## float('inf') population df\n",
    "\n",
    "# Calculate the critical value\n",
    "# critical_value = stats.f.ppf(1-alpha, n-1, float('inf')) #did not give good result\n",
    "\n",
    "\n",
    "#did it manually\n",
    "df1 = 24\n",
    "df2 = \"∞\" #infinity possibility for  \n",
    "alpha = 0.01\n",
    "critical_value = 2.211\n",
    "\n",
    "# Print the results\n",
    "print(\"F-statistic:\", f_stat)\n",
    "print(\"p-value:\", p_value)\n",
    "print(\"Critical value:\", critical_value)\n",
    "\n",
    "if f_stat > critical_value:\n",
    "    print(\"Reject null hypothesis\")\n",
    "else:\n",
    "    print(\"Fail to reject null hypothesis\")"
   ]
  },
  {
   "cell_type": "code",
   "execution_count": 36,
   "id": "6366541c",
   "metadata": {},
   "outputs": [
    {
     "name": "stdout",
     "output_type": "stream",
     "text": [
      "F-statistic: 1.2\n",
      "Critical value: 2.211\n",
      "p-value: 1.0\n",
      "Fail to reject null hypothesis\n"
     ]
    }
   ],
   "source": [
    "### Another way to carry out this analysis\n",
    "import numpy as np\n",
    "from scipy.stats import f\n",
    "\n",
    "# Given data\n",
    "n = 25\n",
    "sample_var = 0.006\n",
    "pop_var = 0.005\n",
    "alpha = 0.01\n",
    "\n",
    "# Calculate the F-statistic\n",
    "F = sample_var / pop_var\n",
    "\n",
    "# Calculate the critical value for the F-distribution\n",
    "df1 = n - 1\n",
    "df2 = np.inf\n",
    "# crit_val = f.ppf(q=1-alpha, dfn=df1, dfd=df2) \n",
    "\n",
    "#did it manually, using F_distribution table\n",
    "# df1 = 24\n",
    "# # df2 = \"∞\" #infinity possibility for  \n",
    "# alpha = 0.01\n",
    "critical_value = 2.211\n",
    "\n",
    "# Calculate the p-value for the F-statistic\n",
    "p_val = 1 - f.cdf(F, dfn=df1, dfd=df2)\n",
    "\n",
    "# Print the results\n",
    "print(\"F-statistic:\", F)\n",
    "print(\"Critical value:\", critical_value)\n",
    "print(\"p-value:\", p_val)\n",
    "\n",
    "# Test the hypothesis at the given significance level\n",
    "if F > critical_value:\n",
    "    print(\"Reject null hypothesis\")\n",
    "else:\n",
    "    print(\"Fail to reject null hypothesis\")\n"
   ]
  },
  {
   "cell_type": "markdown",
   "id": "792dda89",
   "metadata": {},
   "source": [
    "### Question 6\n",
    "\n",
    "Q6. Write a Python function that takes in the degrees of freedom for the numerator and denominator of an F-distribution and calculates the mean and variance of the distribution. The function should return the mean and variance as a tuple.\n",
    "\n",
    "Mean = dfd / (dfd - 2)\n",
    "\n",
    "Variance = (2 * dfd^2 * (dfn + dfd - 2)) / (dfn * (dfd - 2)^2 * (dfd - 4))\n"
   ]
  },
  {
   "cell_type": "code",
   "execution_count": 60,
   "id": "16c2b9f6",
   "metadata": {},
   "outputs": [
    {
     "data": {
      "text/plain": [
       "(1.125, 0.421875)"
      ]
     },
     "execution_count": 60,
     "metadata": {},
     "output_type": "execute_result"
    }
   ],
   "source": [
    "def f_dist_mean_var(dfn, dfd):\n",
    "    if dfn <= 0 or dfd <= 0:\n",
    "        raise ValueError(\"Degrees of freedom must be positive\")\n",
    "    \n",
    "    # Calculate the mean and variance of the F-distribution\n",
    "    if dfd > 2:\n",
    "        mean = dfd / (dfd - 2)\n",
    "        variance = (2 * dfd**2 * (dfn + dfd - 2)) / (dfn * (dfd - 2)**2 * (dfd - 4))\n",
    "    else:\n",
    "        mean = float('nan')\n",
    "        variance = float('nan')\n",
    "    \n",
    "    return mean, variance\n",
    "\n",
    "\n",
    "## Example\n",
    "f_dist_mean_var(12,18)"
   ]
  },
  {
   "cell_type": "markdown",
   "id": "692cd832",
   "metadata": {},
   "source": [
    "### Question 7\n",
    "\n",
    "Q7. A random sample of 10 measurements is taken from a normal population with unknown variance. The sample variance is found to be 25. Another random sample of 15 measurements is taken from another normal population with unknown variance, and the sample variance is found to be 20. Conduct an F-test\n",
    "at the 10% significance level to determine if the variances are significantly different."
   ]
  },
  {
   "cell_type": "code",
   "execution_count": 42,
   "id": "85387fd9",
   "metadata": {},
   "outputs": [
    {
     "name": "stdout",
     "output_type": "stream",
     "text": [
      "Fail to reject the null hypothesis and conclude that there is not enough evidence to suggest that the variances are different.\n"
     ]
    }
   ],
   "source": [
    "import numpy as np\n",
    "from scipy.stats import f\n",
    "\n",
    "# Define the sample variances and sample sizes\n",
    "s1_sq = 25\n",
    "s2_sq = 20\n",
    "n1 = 10\n",
    "n2 = 15\n",
    "\n",
    "# Calculate the test statistic\n",
    "F = s1_sq / s2_sq\n",
    "\n",
    "# Calculate the p-value\n",
    "p_value = 2 * min(f.cdf(F, n1-1, n2-1), 1 - f.cdf(F, n1-1, n2-1))\n",
    "\n",
    "# Compare the p-value to the significance level\n",
    "alpha = 0.10\n",
    "if p_value < alpha:\n",
    "    print(\"Reject the null hypothesis and conclude that the variances are significantly different.\")\n",
    "else:\n",
    "    print(\"Fail to reject the null hypothesis and conclude that there is not enough evidence to suggest that the variances are different.\")\n"
   ]
  },
  {
   "cell_type": "markdown",
   "id": "a985a896",
   "metadata": {},
   "source": [
    "### Question 8\n",
    "\n",
    "Q8. The following data represent the waiting times in minutes at two different restaurants on a Saturday night: Restaurant A: 24, 25, 28, 23, 22, 20, 27; Restaurant B: 31, 33, 35, 30, 32, 36. Conduct an F-test at the 5%\n",
    "significance level to determine if the variances are significantly different."
   ]
  },
  {
   "cell_type": "code",
   "execution_count": 63,
   "id": "d540e88c",
   "metadata": {},
   "outputs": [
    {
     "name": "stdout",
     "output_type": "stream",
     "text": [
      "F-value: 1.4552\n",
      "p-value: 0.6975\n",
      "\n",
      "We fail to reject the null hypothesis and conclude that there is not enough evidence to suggest that the variances are significantly different.\n"
     ]
    }
   ],
   "source": [
    "from scipy.stats import f\n",
    "import numpy as np\n",
    "\n",
    "def f_test(array1, array2):\n",
    "    n1 = len(array1)\n",
    "    n2 = len(array2)\n",
    "    var1 = np.var(array1, ddof=1)\n",
    "    var2 = np.var(array2, ddof=1)\n",
    "    f_value = max(var1, var2) / min(var1, var2)\n",
    "    p_value = 2 * (1 - f.cdf(f_value, n1-1, n2-1))  ## two tail reason for the multiplication by 2\n",
    "    return f_value, p_value\n",
    "\n",
    "data1 = np.array([24, 25, 28, 23, 22, 20, 27])\n",
    "data2 = np.array([31, 33, 35, 30, 32, 36])\n",
    "\n",
    "f_value, p_value = f_test(data1, data2)\n",
    "print(f'F-value: {f_value:.4f}')\n",
    "print(f'p-value: {p_value:.4f}')\n",
    "alpha = 0.05\n",
    "if p_value < alpha:\n",
    "    print(\"\\nWe reject the null hypothesis and conclude that the variances are significantly different.\")\n",
    "else:\n",
    "    print(\"\\nWe fail to reject the null hypothesis and conclude that there is not enough evidence to suggest that the variances are significantly different.\")\n"
   ]
  },
  {
   "cell_type": "code",
   "execution_count": null,
   "id": "2cb83818",
   "metadata": {},
   "outputs": [],
   "source": [
    "# ### can alos be done this way\n",
    "\n",
    "# import numpy as np\n",
    "# from scipy.stats import f_oneway\n",
    "\n",
    "# # Define the data for the two restaurants\n",
    "# restaurant_a = np.array([24, 25, 28, 23, 22, 20, 27])\n",
    "# restaurant_b = np.array([31, 33, 35, 30, 32, 36])\n",
    "\n",
    "# # Calculate the F-test and p-value\n",
    "# F, p_value = f_oneway(restaurant_a, restaurant_b)\n",
    "\n",
    "# # Define the significance level\n",
    "# alpha = 0.05\n",
    "\n",
    "# # Print the results\n",
    "# print(\"F-test statistic:\", F)\n",
    "# print(\"p-value:\", p_value)\n",
    "# if p_value < alpha:\n",
    "#     print(\"We reject the null hypothesis and conclude that the variances are significantly different.\")\n",
    "# else:\n",
    "#     print(\"We fail to reject the null hypothesis and conclude that there is not enough evidence to suggest that the variances are significantly different.\")\n"
   ]
  },
  {
   "cell_type": "markdown",
   "id": "10ae43b0",
   "metadata": {},
   "source": [
    "### Question 9\n",
    "\n",
    "Q9. The following data represent the test scores of two groups of students: Group A: 80, 85, 90, 92, 87, 83;\n",
    "Group B: 75, 78, 82, 79, 81, 84. Conduct an F-test at the 1% significance level to determine if the variances\n",
    "are significantly different.\n",
    "\n",
    "__Hypothesis:__\n",
    "\n",
    "H0: The variances are not significantly different\n",
    "Ha: The variances are significantly different"
   ]
  },
  {
   "cell_type": "code",
   "execution_count": 62,
   "id": "33cb0ef0",
   "metadata": {},
   "outputs": [
    {
     "name": "stdout",
     "output_type": "stream",
     "text": [
      "F-value: 1.9443\n",
      "p-value: 0.4831\n",
      "\n",
      "We fail to reject the null hypothesis and conclude that there is not enough evidence to suggest that the variances are significantly different.\n"
     ]
    }
   ],
   "source": [
    "from scipy.stats import f\n",
    "import numpy as np\n",
    "\n",
    "def f_test(array1, array2):\n",
    "    n1 = len(array1)\n",
    "    n2 = len(array2)\n",
    "    var1 = np.var(array1, ddof=1)\n",
    "    var2 = np.var(array2, ddof=1)\n",
    "    f_value = max(var1, var2) / min(var1, var2)\n",
    "    p_value = 2 * (1 - f.cdf(f_value, n1-1, n2-1))  ## two tail reason for the multiplication by 2\n",
    "    return f_value, p_value\n",
    "\n",
    "GroupA = np.array([80, 85, 90, 92, 87, 83])\n",
    "GroupB = np.array([75, 78, 82, 79, 81, 84])\n",
    "\n",
    "f_value, p_value = f_test(GroupA, GroupB)\n",
    "print(f'F-value: {f_value:.4f}')\n",
    "print(f'p-value: {p_value:.4f}')\n",
    "\n",
    "alpha = 0.01\n",
    "\n",
    "if p_value < alpha:\n",
    "    print(\"\\nWe reject the null hypothesis and conclude that the variances are significantly different.\")\n",
    "else:\n",
    "    print(\"\\nWe fail to reject the null hypothesis and conclude that there is not enough evidence to suggest that the variances are significantly different.\")\n"
   ]
  },
  {
   "cell_type": "code",
   "execution_count": null,
   "id": "de9c5e05",
   "metadata": {},
   "outputs": [],
   "source": []
  },
  {
   "cell_type": "code",
   "execution_count": null,
   "id": "6bacd237",
   "metadata": {},
   "outputs": [],
   "source": []
  },
  {
   "cell_type": "code",
   "execution_count": null,
   "id": "0d95b42a",
   "metadata": {},
   "outputs": [],
   "source": []
  },
  {
   "cell_type": "code",
   "execution_count": null,
   "id": "f277684c",
   "metadata": {},
   "outputs": [],
   "source": []
  },
  {
   "cell_type": "code",
   "execution_count": null,
   "id": "b4a3213a",
   "metadata": {},
   "outputs": [],
   "source": []
  },
  {
   "cell_type": "code",
   "execution_count": 27,
   "id": "9c1a629b",
   "metadata": {},
   "outputs": [
    {
     "data": {
      "text/plain": [
       "nan"
      ]
     },
     "execution_count": 27,
     "metadata": {},
     "output_type": "execute_result"
    }
   ],
   "source": [
    "crit_val"
   ]
  }
 ],
 "metadata": {
  "kernelspec": {
   "display_name": "Python 3 (ipykernel)",
   "language": "python",
   "name": "python3"
  },
  "language_info": {
   "codemirror_mode": {
    "name": "ipython",
    "version": 3
   },
   "file_extension": ".py",
   "mimetype": "text/x-python",
   "name": "python",
   "nbconvert_exporter": "python",
   "pygments_lexer": "ipython3",
   "version": "3.9.12"
  }
 },
 "nbformat": 4,
 "nbformat_minor": 5
}
