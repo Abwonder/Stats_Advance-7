{
 "cells": [
  {
   "cell_type": "markdown",
   "id": "fe37befe",
   "metadata": {},
   "source": [
    "### Quiz question important\n",
    "\n",
    "Given an F-distribution with df1=8 and df2=12, what is the probability that F is greater than 3.50?\n",
    "\n",
    "\n",
    "Sure! Here’s an example of how to calculate the p-value from the degrees of freedom and the critical value of the F-statistic using statistical software:\n",
    "\n",
    "Suppose you have an F-distribution with 8 degrees of freedom in the numerator (df1) and 12 degrees of freedom in the denominator (df2), and the critical value of the F-statistic is 3.50. \n",
    "\n",
    "from scipy.stats import f\n",
    "\n",
    "df1 = 8\n",
    "df2 = 12\n",
    "f_crit = 3.50\n",
    "p_value = 1 - f.cdf(f_crit, df1, df2)\n",
    "p_value\n",
    "\n",
    "\n",
    "This would give you a p-value of approximately 0.032. This means that there is a 3.2% chance of observing an F-statistic as extreme or more extreme than 3.50, assuming the null hypothesis is true.\n",
    "\n",
    "\n",
    "Note: this can only be done appropriately using software\n",
    "\n"
   ]
  },
  {
   "cell_type": "code",
   "execution_count": 1,
   "id": "b96792ab",
   "metadata": {},
   "outputs": [
    {
     "data": {
      "text/plain": [
       "0.025294841999999984"
      ]
     },
     "execution_count": 1,
     "metadata": {},
     "output_type": "execute_result"
    }
   ],
   "source": [
    "from scipy.stats import f\n",
    "\n",
    "df1 = 8\n",
    "df2 = 12\n",
    "f_crit = 3.50\n",
    "p_value = 1 - f.cdf(f_crit, df1, df2)\n",
    "p_value"
   ]
  },
  {
   "cell_type": "markdown",
   "id": "864e1052",
   "metadata": {},
   "source": [
    "10.\n",
    "\n",
    "An experiment is conducted to compare the variances of two groups of data. The F-value is calculated to be 1.75, with degrees of freedom for the numerator and denominator being 6 and 8, respectively. What is the p-value for this F-value?\n",
    "\n",
    "\n",
    "\n",
    "\n",
    "Sure! Here’s an example of how to calculate the p-value from the degrees of freedom and the critical value of the F-statistic using Python:\n",
    "\n",
    "Suppose you have an F-distribution with 6 degrees of freedom in the numerator (df1) and 8 degrees of freedom in the denominator (df2), and the critical value of the F-statistic is 1.75. Using the scipy library in Python, you can calculate the p-value as follows:\n",
    "\n",
    "from scipy.stats import f\n",
    "\n",
    "df1 = 6\n",
    "df2 = 8\n",
    "f_crit = 1.75\n",
    "p_value = 1 - f.cdf(f_crit, df1, df2)\n",
    "p_value\n",
    "This would give you a p-value of approximately 0.244. This means that there is a 24.4% chance of observing an F-statistic as extreme or more extreme than 1.75, assuming the null hypothesis is true."
   ]
  },
  {
   "cell_type": "code",
   "execution_count": 2,
   "id": "12c7b796",
   "metadata": {},
   "outputs": [
    {
     "data": {
      "text/plain": [
       "0.22699942985230415"
      ]
     },
     "execution_count": 2,
     "metadata": {},
     "output_type": "execute_result"
    }
   ],
   "source": [
    "from scipy.stats import f\n",
    "\n",
    "df1 = 6\n",
    "df2 = 8\n",
    "f_crit = 1.75\n",
    "p_value = 1 - f.cdf(f_crit, df1, df2)\n",
    "\n",
    "p_value"
   ]
  },
  {
   "cell_type": "markdown",
   "id": "7a1bbb81",
   "metadata": {},
   "source": [
    "7. For an F-distribution with df1=6 and df2=9, what is the value of F for a cumulative probability of 0.95?\n",
    " \n",
    " \n",
    " \n",
    "Sure! Here’s an example of how to calculate the value of F for a given F-distribution and cumulative probability using Python:\n",
    "\n",
    "Suppose you have an F-distribution with 6 degrees of freedom in the numerator (df1) and 9 degrees of freedom in the denominator (df2), and you want to find the value of F for a cumulative probability of 0.95. Using the scipy library in Python, you can calculate the value of F as follows:\n",
    "\n",
    "from scipy.stats import f\n",
    "\n",
    "df1 = 6\n",
    "df2 = 9\n",
    "p = 0.95\n",
    "f_value = f.ppf(p, df1, df2)\n",
    "f_value\n",
    "This would give you an F-value of approximately 3.463. This means that for an F-distribution with 6 degrees of freedom in the numerator and 9 degrees of freedom in the denominator, there is a 95% chance that the F-statistic will be less than or equal to 3.463.\n",
    " "
   ]
  },
  {
   "cell_type": "code",
   "execution_count": 7,
   "id": "6c044e31",
   "metadata": {},
   "outputs": [
    {
     "data": {
      "text/plain": [
       "3.373753647039214"
      ]
     },
     "execution_count": 7,
     "metadata": {},
     "output_type": "execute_result"
    }
   ],
   "source": [
    "from scipy.stats import f\n",
    "\n",
    "df1 = 6\n",
    "df2 = 9\n",
    "p = 0.95\n",
    "f_value = f.ppf(p, df1, df2)\n",
    "f_value"
   ]
  },
  {
   "cell_type": "markdown",
   "id": "fa4ff62f",
   "metadata": {},
   "source": [
    "8. A researcher wants to test if the variances of two samples are equal. She collects two samples of sizes 20 and 30 with sample variances 12 and 18, respectively. What is the calculated value of F?\n",
    "\n",
    "\n",
    " F = 18/12 = 1.5\n",
    " \n",
    "Note: Always use the higher df at the nomerator(upper part of fraction ) and smaller as denominator (lower part of fraction)\n"
   ]
  },
  {
   "cell_type": "code",
   "execution_count": 9,
   "id": "54e5f3e3",
   "metadata": {},
   "outputs": [
    {
     "data": {
      "text/plain": [
       "1.5"
      ]
     },
     "execution_count": 9,
     "metadata": {},
     "output_type": "execute_result"
    }
   ],
   "source": [
    "F = 18/12\n",
    "F"
   ]
  },
  {
   "cell_type": "markdown",
   "id": "d84c009f",
   "metadata": {},
   "source": [
    "10. An experiment is conducted to compare the variances of two groups of data. The F-value is calculated to be 1.75, with degrees of freedom for the numerator and denominator being 6 and 8, respectively. What is the p-value for this F-value?\n",
    "\n",
    "\n",
    "Sure! Here’s an example of how to calculate the p-value from the degrees of freedom and the critical value of the F-statistic using Python:\n",
    "\n",
    "Suppose you have an F-distribution with 6 degrees of freedom in the numerator (df1) and 8 degrees of freedom in the denominator (df2), and the critical value of the F-statistic is 1.75. Using the scipy library in Python, you can calculate the p-value as follows:\n",
    "\n",
    "from scipy.stats import f\n",
    "\n",
    "df1 = 6\n",
    "df2 = 8\n",
    "f_crit = 1.75\n",
    "p_value = 1 - f.cdf(f_crit, df1, df2)\n",
    "p_value\n",
    "\n",
    "This would give you a p-value of approximately 0.244. This means that there is a 24.4% chance of observing an F-statistic as extreme or more extreme than 1.75, assuming the null hypothesis is true."
   ]
  },
  {
   "cell_type": "code",
   "execution_count": 10,
   "id": "9b312e5a",
   "metadata": {},
   "outputs": [
    {
     "data": {
      "text/plain": [
       "0.22699942985230415"
      ]
     },
     "execution_count": 10,
     "metadata": {},
     "output_type": "execute_result"
    }
   ],
   "source": [
    "from scipy.stats import f\n",
    "\n",
    "df1 = 6\n",
    "df2 = 8\n",
    "f_crit = 1.75\n",
    "p_value = 1 - f.cdf(f_crit, df1, df2)\n",
    "p_value"
   ]
  },
  {
   "cell_type": "code",
   "execution_count": null,
   "id": "78403ee3",
   "metadata": {},
   "outputs": [],
   "source": []
  },
  {
   "cell_type": "code",
   "execution_count": 3,
   "id": "b1ef2697",
   "metadata": {},
   "outputs": [
    {
     "data": {
      "text/plain": [
       "0.7730005701476959"
      ]
     },
     "execution_count": 3,
     "metadata": {},
     "output_type": "execute_result"
    }
   ],
   "source": [
    "f.cdf(f_crit, df1, df2)"
   ]
  },
  {
   "cell_type": "code",
   "execution_count": 4,
   "id": "72b6eee3",
   "metadata": {},
   "outputs": [
    {
     "data": {
      "text/plain": [
       "0.7730005701476959"
      ]
     },
     "execution_count": 4,
     "metadata": {},
     "output_type": "execute_result"
    }
   ],
   "source": [
    "f.cdf(1.75, 6, 8)"
   ]
  },
  {
   "cell_type": "code",
   "execution_count": 6,
   "id": "6da0dd90",
   "metadata": {},
   "outputs": [
    {
     "data": {
      "text/plain": [
       "1.5"
      ]
     },
     "execution_count": 6,
     "metadata": {},
     "output_type": "execute_result"
    }
   ],
   "source": [
    "18/12"
   ]
  },
  {
   "cell_type": "code",
   "execution_count": null,
   "id": "5011cad1",
   "metadata": {},
   "outputs": [],
   "source": []
  },
  {
   "cell_type": "code",
   "execution_count": null,
   "id": "876ec70c",
   "metadata": {},
   "outputs": [],
   "source": []
  },
  {
   "cell_type": "code",
   "execution_count": null,
   "id": "610e8c26",
   "metadata": {},
   "outputs": [],
   "source": []
  },
  {
   "cell_type": "code",
   "execution_count": null,
   "id": "8b29a349",
   "metadata": {},
   "outputs": [],
   "source": []
  },
  {
   "cell_type": "code",
   "execution_count": null,
   "id": "f70f09d1",
   "metadata": {},
   "outputs": [],
   "source": []
  },
  {
   "cell_type": "code",
   "execution_count": null,
   "id": "201650a8",
   "metadata": {},
   "outputs": [],
   "source": []
  },
  {
   "cell_type": "code",
   "execution_count": null,
   "id": "f183f8d5",
   "metadata": {},
   "outputs": [],
   "source": []
  }
 ],
 "metadata": {
  "kernelspec": {
   "display_name": "Python 3 (ipykernel)",
   "language": "python",
   "name": "python3"
  },
  "language_info": {
   "codemirror_mode": {
    "name": "ipython",
    "version": 3
   },
   "file_extension": ".py",
   "mimetype": "text/x-python",
   "name": "python",
   "nbconvert_exporter": "python",
   "pygments_lexer": "ipython3",
   "version": "3.9.12"
  }
 },
 "nbformat": 4,
 "nbformat_minor": 5
}
